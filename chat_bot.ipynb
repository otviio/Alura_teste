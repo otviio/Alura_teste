{
  "nbformat": 4,
  "nbformat_minor": 0,
  "metadata": {
    "colab": {
      "provenance": [],
      "mount_file_id": "1E9vS1lTJiaU9UtegGbgnYexjfTeaAcMd",
      "authorship_tag": "ABX9TyN5w5ppwUa58ePCz7ReTQ1D",
      "include_colab_link": true
    },
    "kernelspec": {
      "name": "python3",
      "display_name": "Python 3"
    },
    "language_info": {
      "name": "python"
    }
  },
  "cells": [
    {
      "cell_type": "markdown",
      "metadata": {
        "id": "view-in-github",
        "colab_type": "text"
      },
      "source": [
        "<a href=\"https://colab.research.google.com/github/otviio/Alura_teste/blob/main/chat_bot.ipynb\" target=\"_parent\"><img src=\"https://colab.research.google.com/assets/colab-badge.svg\" alt=\"Open In Colab\"/></a>"
      ]
    },
    {
      "cell_type": "markdown",
      "source": [
        "Instalando o SDK do Gemini"
      ],
      "metadata": {
        "id": "nCX0cGEMxsfD"
      }
    },
    {
      "cell_type": "code",
      "source": [
        "!pip install -q -U google-generativeai"
      ],
      "metadata": {
        "id": "KO2AvfUixgHw"
      },
      "execution_count": null,
      "outputs": []
    },
    {
      "cell_type": "markdown",
      "source": [
        "Configurando a API KEY"
      ],
      "metadata": {
        "id": "Wwrpkycnx5-h"
      }
    },
    {
      "cell_type": "code",
      "source": [
        "import google.generativeai as genai\n",
        "from google.colab import userdata\n",
        "\n",
        "api_key = userdata.get('SECRET')\n",
        "genai.configure(api_key=api_key)"
      ],
      "metadata": {
        "id": "QfIjnP8Zx2v5"
      },
      "execution_count": null,
      "outputs": []
    },
    {
      "cell_type": "markdown",
      "source": [
        "Listando os modelos disponiveis"
      ],
      "metadata": {
        "id": "rLgMoaJ3yQln"
      }
    },
    {
      "cell_type": "code",
      "source": [
        "for m in genai.list_models():\n",
        "  if 'generateContent' in m.supported_generation_methods:\n",
        "    print(m.name)"
      ],
      "metadata": {
        "colab": {
          "base_uri": "https://localhost:8080/",
          "height": 139
        },
        "id": "Nl2Qt_E0yGnC",
        "outputId": "eb73c994-e269-40c7-8921-8b92b1d46ca5"
      },
      "execution_count": null,
      "outputs": [
        {
          "output_type": "stream",
          "name": "stdout",
          "text": [
            "models/gemini-1.0-pro\n",
            "models/gemini-1.0-pro-001\n",
            "models/gemini-1.0-pro-latest\n",
            "models/gemini-1.0-pro-vision-latest\n",
            "models/gemini-1.5-pro-latest\n",
            "models/gemini-pro\n",
            "models/gemini-pro-vision\n"
          ]
        }
      ]
    },
    {
      "cell_type": "markdown",
      "source": [
        "Configurações de geração"
      ],
      "metadata": {
        "id": "g-p9_ZAg2DS9"
      }
    },
    {
      "cell_type": "code",
      "source": [
        "generation_config = {\n",
        "    \"candidate_count\": 1,\n",
        "    \"temperature\": 0.5,\n",
        "}"
      ],
      "metadata": {
        "id": "XGJf7slU0w2q"
      },
      "execution_count": null,
      "outputs": []
    },
    {
      "cell_type": "markdown",
      "source": [
        "Configurações de segurança"
      ],
      "metadata": {
        "id": "nJFXQZ4e2JfA"
      }
    },
    {
      "cell_type": "code",
      "source": [
        "safe_sett = {\n",
        "    \"HARASSMENT\": \"BLOCK_NONE\",\n",
        "    \"HATE\": \"BLOCK_NONE\",\n",
        "    \"SEXUAL\": \"BLOCK_NONE\",\n",
        "    \"DANGEROUS\": \"BLOCK_NONE\",\n",
        "}"
      ],
      "metadata": {
        "id": "2dcoQPjU1VQd"
      },
      "execution_count": null,
      "outputs": []
    },
    {
      "cell_type": "markdown",
      "source": [
        "Inicializando o modelo"
      ],
      "metadata": {
        "id": "Vn3Wu3132Wat"
      }
    },
    {
      "cell_type": "code",
      "source": [
        "model = genai.GenerativeModel(model_name=\"gemini-1.0-pro-latest\",\n",
        "                              generation_config=generation_config,\n",
        "                              safety_settings=safe_sett)"
      ],
      "metadata": {
        "id": "CFPRqCD719a_"
      },
      "execution_count": null,
      "outputs": []
    },
    {
      "cell_type": "markdown",
      "source": [
        "Criando a response"
      ],
      "metadata": {
        "id": "rd0BHYqQ3K7l"
      }
    },
    {
      "cell_type": "code",
      "source": [
        "response = model.generate_content(\"Escreva uma história sobre uma mochila mágica.\")\n",
        "print(response.text)"
      ],
      "metadata": {
        "colab": {
          "base_uri": "https://localhost:8080/",
          "height": 298
        },
        "id": "st1VDZwV3Iov",
        "outputId": "dc859ee1-161b-4a16-e63c-eb5282c4f17e"
      },
      "execution_count": null,
      "outputs": [
        {
          "output_type": "stream",
          "name": "stdout",
          "text": [
            "Nas profundezas de um antigo sótão, empoeirado e esquecido, jazia uma mochila extraordinária. Feita de couro desgastado pelo tempo e adornada com bordados intrincados, ela guardava um segredo mágico desconhecido para o mundo.\n",
            "\n",
            "Um dia, enquanto explorava o sótão, uma jovem chamada Anya tropeçou na mochila. Sua curiosidade foi despertada, e ela a pegou para examiná-la mais de perto. Assim que seus dedos tocaram o tecido, uma onda de energia percorreu seu corpo.\n",
            "\n",
            "De repente, a mochila começou a brilhar com uma luz etérea. Um mapa antigo se desenrolou em seu interior, revelando um caminho tortuoso que levava a uma terra distante. Anya sentiu um chamado irresistível para seguir o mapa e descobrir os mistérios que a mochila guardava.\n",
            "\n",
            "Colocando a mochila nas costas, Anya embarcou em uma jornada extraordinária. Cada passo que ela dava transportava-a para um novo reino. Ela conheceu criaturas fantásticas, desvendou enigmas antigos e enfrentou perigos inimagináveis.\n",
            "\n",
            "Mas a mochila era mais do que um guia. Ela possuía um poder mágico que permitia a Anya se transformar em qualquer criatura que desejasse. Ela voou como um pássaro, nadou como um peixe e correu como um cervo. Com cada transformação, ela aprendia novas habilidades e ganhava uma compreensão mais profunda do mundo ao seu redor.\n",
            "\n",
            "À medida que sua jornada avançava, Anya percebeu que a mochila não era apenas um objeto mágico, mas também um símbolo de seu próprio potencial ilimitado. Ela aprendeu que com imaginação e determinação, ela poderia superar qualquer obstáculo e alcançar seus sonhos mais selvagens.\n",
            "\n",
            "Finalmente, Anya chegou ao destino final de sua jornada: uma terra de maravilhas e magia. Lá, ela descobriu a fonte do poder da mochila e aprendeu que ela era a guardiã de um antigo segredo que poderia mudar o destino do mundo.\n",
            "\n",
            "Com a mochila mágica em mãos, Anya retornou ao seu próprio mundo, transformada pela sua jornada. Ela usou seu conhecimento e habilidades para ajudar os outros e espalhar a magia e o encantamento por onde passava. E assim, a mochila mágica continuou a ser um símbolo de esperança e aventura, inspirando gerações a acreditar na magia do impossível.\n"
          ]
        }
      ]
    },
    {
      "cell_type": "markdown",
      "source": [
        "**Criando o chat com histórico vazio**"
      ],
      "metadata": {
        "id": "iH2yxKx04Jfs"
      }
    },
    {
      "cell_type": "code",
      "source": [
        "chat = model.start_chat(history=[])"
      ],
      "metadata": {
        "id": "-7_Z6xZJ4Ksu"
      },
      "execution_count": null,
      "outputs": []
    },
    {
      "cell_type": "code",
      "source": [
        "prompt = input(\"Esperando o prompt: \")\n",
        "\n",
        "while prompt != \"fim\" and prompt != \"Fim\":\n",
        "  response = chat.send_message(prompt)\n",
        "  print(\"\\nResposta: \", response.text, \"\\n\")\n",
        "  prompt = input(\"Esperando o prompt: \")"
      ],
      "metadata": {
        "colab": {
          "base_uri": "https://localhost:8080/",
          "height": 173
        },
        "id": "G4jS4k86QlOA",
        "outputId": "bab10333-c9ac-44e7-aebe-05e60b8ba7e4"
      },
      "execution_count": null,
      "outputs": [
        {
          "name": "stdout",
          "output_type": "stream",
          "text": [
            "Esperando o prompt: Olá\n",
            "\n",
            "Resposta:  Olá, como posso ajudá-lo hoje? \n",
            "\n",
            "Esperando o prompt: Capital do jpo\n",
            "\n",
            "Resposta:  Tóquio \n",
            "\n",
            "Esperando o prompt: fim\n"
          ]
        }
      ]
    },
    {
      "cell_type": "markdown",
      "source": [
        "Melhorando a visualização\n"
      ],
      "metadata": {
        "id": "1cPkAzwiPiVF"
      }
    },
    {
      "cell_type": "code",
      "source": [
        "import textwrap\n",
        "from IPython.display import display\n",
        "from IPython.display import Markdown\n",
        "\n",
        "def to_markdown(text):\n",
        "  text = text.replace('•', '  *')\n",
        "  return Markdown(textwrap.indent(text, '> ', predicate=lambda _: True))\n",
        "\n",
        "#Imprimindo o historico\n",
        "for message in chat.history:\n",
        "  display(to_markdown(f'**{message.role}**: {message.parts[0].text}'))\n",
        "  print('‎')"
      ],
      "metadata": {
        "colab": {
          "base_uri": "https://localhost:8080/",
          "height": 268
        },
        "id": "BAQddVpX4pU1",
        "outputId": "230075d0-1ebe-4758-c5ba-5b53f07690f6"
      },
      "execution_count": null,
      "outputs": [
        {
          "output_type": "display_data",
          "data": {
            "text/plain": [
              "<IPython.core.display.Markdown object>"
            ],
            "text/markdown": "> **user**: Olá"
          },
          "metadata": {}
        },
        {
          "output_type": "stream",
          "name": "stdout",
          "text": [
            "‎\n"
          ]
        },
        {
          "output_type": "display_data",
          "data": {
            "text/plain": [
              "<IPython.core.display.Markdown object>"
            ],
            "text/markdown": "> **model**: Olá, como posso ajudá-lo hoje?"
          },
          "metadata": {}
        },
        {
          "output_type": "stream",
          "name": "stdout",
          "text": [
            "‎\n"
          ]
        },
        {
          "output_type": "display_data",
          "data": {
            "text/plain": [
              "<IPython.core.display.Markdown object>"
            ],
            "text/markdown": "> **user**: Capital do jpo"
          },
          "metadata": {}
        },
        {
          "output_type": "stream",
          "name": "stdout",
          "text": [
            "‎\n"
          ]
        },
        {
          "output_type": "display_data",
          "data": {
            "text/plain": [
              "<IPython.core.display.Markdown object>"
            ],
            "text/markdown": "> **model**: Tóquio"
          },
          "metadata": {}
        },
        {
          "output_type": "stream",
          "name": "stdout",
          "text": [
            "‎\n"
          ]
        }
      ]
    }
  ]
}